{
 "cells": [
  {
   "cell_type": "markdown",
   "metadata": {},
   "source": [
    "# ノート 1: データの取得\n",
    "\n",
    "### 目標: チュートリアルで使うデータセットを取得する\n",
    "\n",
    "### 背景\n",
    "\n",
    "Part1 のチュートリアルと同じく\n",
    "[The Storm EVent ImagRy (SEVIR) dataset](https://proceedings.neurips.cc/paper/2020/file/fa78a16157fed00d7a80515818432169-Paper.pdf)\n",
    "を使います。オリジナルの SEVIR データセットは約 1TB あります。チュートリアルで使いやすいようにオリジナルのデータを加工した sub-SEVIR データセットを用意しました。\n",
    "\n",
    "sub-SEVIR データセットはオリジナルの SEVIR データセットをサブサンプリングしたものです。\n",
    "全画像を 48x48 ピクセルに再サンプリングして空間解像度は 8km、時間解像度は 1 時間です。\n",
    "各イベントは (時間, 横, 縦, 画種数)=(12,38,38,4)の形状をしています。\n",
    "\n",
    "SEVIR データセットと sub-SEVIR データセットの違いは次の YouTube 動画を見ると分かりやすいでしょう。\n",
    "\n",
    "1. [オリジナルの解像度の場合](https://youtu.be/ntjNB0SAz1Y)\n",
    "2. [sub-SEVIR の場合](https://youtu.be/UAEfD1p5uW8)\n",
    "\n",
    "解像度にかなりの違いがありますが sub-SEVIR データセットでも機械学習モデルの学習を行うには十分な情報量があります。\n",
    "\n",
    "sub-SEVIR データセットのサイズは約 2GB です。少なくとも 2GB 以上のストレージを確保してチュートリアルをはじめてください。\n"
   ]
  },
  {
   "cell_type": "markdown",
   "metadata": {},
   "source": [
    "#### データの取得\n",
    "\n",
    "データは [![DOI](https://zenodo.org/badge/DOI/10.5281/zenodo.7011372.svg)](https://doi.org/10.5281/zenodo.7011372) に保存されています。\n",
    "wget 等でデータを取得して `datasets` ディレクトリに保存してください。\n",
    "\n",
    "保存できたら以下のコードを実行して圧縮ファイルを展開します。\n"
   ]
  },
  {
   "cell_type": "code",
   "execution_count": 2,
   "metadata": {},
   "outputs": [],
   "source": [
    "from pathlib import Path\n",
    "import tarfile\n",
    "import os\n",
    "\n",
    "save_file = Path(\"../datasets/sub-sevir.tar.gz\")\n",
    "with tarfile.open(save_file, \"r:gz\") as tar:\n",
    "    tar.extractall(path=save_file.parent)\n",
    "os.remove(save_file)\n",
    "\n",
    "for p in (save_file.parent / \"sub-sevir\").glob(\"./sub-sevir-*.tar.gz\"):\n",
    "    with tarfile.open(p, \"r:gz\") as tar:\n",
    "        tar.extractall(path=p.parent)\n",
    "    os.remove(p)"
   ]
  },
  {
   "cell_type": "markdown",
   "metadata": {},
   "source": [
    "tar ファイルには以下のデータが含まれています。\n",
    "README.md にはデータの作成方法、メタデータ、データセットに関する追加情報が含まれています。\n",
    "\n",
    "- README.md\n",
    "- sub-sevir-train.tar.gz\n",
    "- sub-sevir-val.tar.gz\n",
    "- sub-sevir-test.tar.gz\n"
   ]
  }
 ],
 "metadata": {
  "kernelspec": {
   "display_name": ".venv",
   "language": "python",
   "name": "python3"
  },
  "language_info": {
   "codemirror_mode": {
    "name": "ipython",
    "version": 3
   },
   "file_extension": ".py",
   "mimetype": "text/x-python",
   "name": "python",
   "nbconvert_exporter": "python",
   "pygments_lexer": "ipython3",
   "version": "3.9.13"
  }
 },
 "nbformat": 4,
 "nbformat_minor": 2
}
